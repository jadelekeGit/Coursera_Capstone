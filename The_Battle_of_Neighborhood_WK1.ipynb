{
  "nbformat": 4,
  "nbformat_minor": 0,
  "metadata": {
    "kernelspec": {
      "display_name": "Python 3.7",
      "language": "python",
      "name": "python3"
    },
    "language_info": {
      "codemirror_mode": {
        "name": "ipython",
        "version": 3
      },
      "file_extension": ".py",
      "mimetype": "text/x-python",
      "name": "python",
      "nbconvert_exporter": "python",
      "pygments_lexer": "ipython3",
      "version": "3.7.9"
    },
    "colab": {
      "name": "The Battle of Neighborhood WK1.ipynb",
      "provenance": [],
      "include_colab_link": true
    }
  },
  "cells": [
    {
      "cell_type": "markdown",
      "metadata": {
        "id": "view-in-github",
        "colab_type": "text"
      },
      "source": [
        "<a href=\"https://colab.research.google.com/github/jadelekeGit/Coursera_Capstone/blob/master/The_Battle_of_Neighborhood_WK1.ipynb\" target=\"_parent\"><img src=\"https://colab.research.google.com/assets/colab-badge.svg\" alt=\"Open In Colab\"/></a>"
      ]
    },
    {
      "cell_type": "markdown",
      "metadata": {
        "collapsed": true,
        "id": "q4wIe8dfgddY"
      },
      "source": [
        "## The Battle of Neighborhood 1"
      ]
    },
    {
      "cell_type": "markdown",
      "metadata": {
        "id": "zukg5516gddY"
      },
      "source": [
        "# Introduction"
      ]
    },
    {
      "cell_type": "markdown",
      "metadata": {
        "id": "6ye2JU72gddY"
      },
      "source": [
        "In this project we explore better facilities and locations for those who intend settle in or to set up a business New York city. "
      ]
    },
    {
      "cell_type": "markdown",
      "metadata": {
        "id": "idt0wQ6BgddY"
      },
      "source": [
        "New York is the most popular destination for tourists and migrants. It's also the largest business center in the United States and in the world. Finding the best restaurant or cafe and the best neighborhood (in the terms of Schools, Shops,  Hospitals, Theaters etc) to settle in, or the best location for developping businesses can rapidly become a nightmare in the hugeness and in the diversity of the city of New York. "
      ]
    },
    {
      "cell_type": "markdown",
      "metadata": {
        "id": "iV6FkITlgddY"
      },
      "source": [
        "The project aims to deepen the study of neighborhoods in New York City by producing a comparative analysis of features that could be of interest for migrants. These features are but not limited to Houses, Schools, Hospitals, Crime rate, Accessibility, Police....The result of the project will surely guide people in making efficient choice of the neighborhood among others. "
      ]
    },
    {
      "cell_type": "markdown",
      "metadata": {
        "id": "DD50TPi6gddY"
      },
      "source": [
        "# Foursquare API"
      ]
    },
    {
      "cell_type": "markdown",
      "metadata": {
        "id": "a8ryLHHkgddY"
      },
      "source": [
        "The most important elements of this this project is data provision. We will use Foursquare API to gather data on locations, residential and commercial. Indeed, Foursquare a powerful search engine that contain millions of residential and commercial addresses around the world became essential for gathering precious sources of such data."
      ]
    },
    {
      "cell_type": "markdown",
      "metadata": {
        "id": "TA_KsiQXgddY"
      },
      "source": [
        "# Methodology"
      ]
    },
    {
      "cell_type": "markdown",
      "metadata": {
        "id": "bm9_jgvKgddY"
      },
      "source": [
        "We will examine similarities or disimilarities of two cities by exploring neighborhoods. Then grouping them into clusters will allow to find similar neighborhoods in a big cities like Toronto and New York. We are going to the technique of k-means clustering algorithm to achieve this goal."
      ]
    },
    {
      "cell_type": "markdown",
      "metadata": {
        "id": "jn_TNa5FgddY"
      },
      "source": [
        "# Librairies"
      ]
    },
    {
      "cell_type": "markdown",
      "metadata": {
        "id": "u7jcKJmxgddY"
      },
      "source": [
        "Pandas: For creating and manipulating dataframes.\n",
        "\n",
        "JSON: Library to handle JSON files.\n",
        "\n",
        "XML: To separate data from presentation and XML stores data in plain text format.\n",
        "\n",
        "Folium: Python visualization library would be used to visualize the neighborhoods cluster distribution of using interactive leaflet map.\n",
        "\n",
        "Scikit Learn: For importing k-means clustering.\n",
        "\n",
        "Geocoder: To retrieve Location Data.\n",
        "\n",
        "Beautiful Soup and Requests: To scrap and library to handle http requests."
      ]
    }
  ]
}